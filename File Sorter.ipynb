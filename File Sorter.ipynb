{
 "cells": [
  {
   "cell_type": "markdown",
   "id": "3e827afd-9471-451a-9223-3c65050cfb8d",
   "metadata": {},
   "source": [
    "# Automatic File Sorter in File Explorer"
   ]
  },
  {
   "cell_type": "code",
   "execution_count": 2,
   "id": "9f30568f-1082-4c7e-a123-12f424f3f4dc",
   "metadata": {},
   "outputs": [],
   "source": [
    "import os, shutil"
   ]
  },
  {
   "cell_type": "code",
   "execution_count": 19,
   "id": "de2dd43a-89d1-42a5-a3d1-e5bb7007227f",
   "metadata": {},
   "outputs": [],
   "source": [
    "path = r\"C:/Users/nihmath/Desktop/python_tutorial/\""
   ]
  },
  {
   "cell_type": "code",
   "execution_count": 35,
   "id": "acd7e120-a581-4b37-8783-a10089b1e291",
   "metadata": {},
   "outputs": [],
   "source": [
    "file_name = os.listdir(path)"
   ]
  },
  {
   "cell_type": "code",
   "execution_count": 47,
   "id": "9af64962-caee-461c-98fc-940b35a00f0d",
   "metadata": {},
   "outputs": [
    {
     "name": "stdout",
     "output_type": "stream",
     "text": [
      "C:/Users/nihmath/Desktop/python_tutorial/csv files\n",
      "C:/Users/nihmath/Desktop/python_tutorial/image files\n",
      "C:/Users/nihmath/Desktop/python_tutorial/text files\n"
     ]
    }
   ],
   "source": [
    "folder_names = ['csv files', 'image files', 'text files']\n",
    "\n",
    "for loop in range(0,3):\n",
    "    if not os.path.exists(path + folder_names[loop]):\n",
    "        print(path + folder_names[loop])\n",
    "        os.makedirs(path + folder_names[loop])\n",
    "\n",
    "for file in file_name:\n",
    "    if \".csv\" in file and not os.path.exists(path + \"csv files/\" + file):\n",
    "        shutil.move(path + file, path + \"csv files/\" + file)\n",
    "    elif \".png\" in file and not os.path.exists(path + \"image files/\" + file):\n",
    "        shutil.move(path + file, path + \"image files/\" + file)\n",
    "    elif \".txt\" in file and not os.path.exists(path + \"text files/\" + file):\n",
    "        shutil.move(path + file, path + \"text files/\" + file)\n",
    "     "
   ]
  },
  {
   "cell_type": "code",
   "execution_count": 45,
   "id": "7d646a14-536c-4d2d-845d-af19e169e098",
   "metadata": {},
   "outputs": [],
   "source": []
  },
  {
   "cell_type": "code",
   "execution_count": null,
   "id": "347e9397-0da8-4f6e-b1ef-5962ec29ff45",
   "metadata": {},
   "outputs": [],
   "source": []
  },
  {
   "cell_type": "code",
   "execution_count": null,
   "id": "c8cf3377-0979-4c80-a1d7-1c5d62eceb58",
   "metadata": {},
   "outputs": [],
   "source": []
  },
  {
   "cell_type": "code",
   "execution_count": null,
   "id": "1ed86764-703b-425d-ac3a-454f9dde00a9",
   "metadata": {},
   "outputs": [],
   "source": []
  },
  {
   "cell_type": "code",
   "execution_count": null,
   "id": "66b9fee7-496e-4cbc-b853-ff4c6bc5b52d",
   "metadata": {},
   "outputs": [],
   "source": []
  },
  {
   "cell_type": "code",
   "execution_count": null,
   "id": "46775c83-9d2b-4313-9fb3-f76c48e1484f",
   "metadata": {},
   "outputs": [],
   "source": []
  },
  {
   "cell_type": "code",
   "execution_count": null,
   "id": "ac9d481f-4fb8-4ca1-9a45-fe2703c52514",
   "metadata": {},
   "outputs": [],
   "source": []
  },
  {
   "cell_type": "code",
   "execution_count": null,
   "id": "93b97dd6-c0b6-4448-880c-d089e542b4f6",
   "metadata": {},
   "outputs": [],
   "source": []
  }
 ],
 "metadata": {
  "kernelspec": {
   "display_name": "Python 3 (ipykernel)",
   "language": "python",
   "name": "python3"
  },
  "language_info": {
   "codemirror_mode": {
    "name": "ipython",
    "version": 3
   },
   "file_extension": ".py",
   "mimetype": "text/x-python",
   "name": "python",
   "nbconvert_exporter": "python",
   "pygments_lexer": "ipython3",
   "version": "3.12.4"
  }
 },
 "nbformat": 4,
 "nbformat_minor": 5
}
